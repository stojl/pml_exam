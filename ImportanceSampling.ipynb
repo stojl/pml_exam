{
 "cells": [
  {
   "cell_type": "code",
   "execution_count": 1,
   "metadata": {},
   "outputs": [],
   "source": [
    "from TrainedVAE import TrainedLinearVAE2\n",
    "from TrainedVAE import TrainedConvVAE2\n",
    "import torch\n",
    "import torch.distributions as tdist\n",
    "import dataloader"
   ]
  },
  {
   "cell_type": "code",
   "execution_count": 2,
   "metadata": {},
   "outputs": [],
   "source": [
    "_, test_loader = dataloader.setup_data_loaders(batch_size=60000, use_cuda=False)\n",
    "X, classes = next(iter(test_loader)) "
   ]
  },
  {
   "cell_type": "code",
   "execution_count": 12,
   "metadata": {},
   "outputs": [],
   "source": [
    "model = TrainedLinearVAE2\n",
    "SD = torch.tensor([0.05])\n",
    "z_mean, z_scale = model.encoder(X)\n",
    "q_z_x = tdist.Normal(z_mean, z_scale)\n",
    "Z = q_z_x.sample()\n",
    "Z_param = model.decoder(Z)\n",
    "p_x_z = tdist.Normal(loc = Z_param, scale=SD)\n",
    "p_z = tdist.MultivariateNormal(loc=torch.zeros(2), covariance_matrix=torch.eye(2))"
   ]
  },
  {
   "cell_type": "code",
   "execution_count": 20,
   "metadata": {},
   "outputs": [],
   "source": [
    "with torch.no_grad():\n",
    "    log_p_x = p_x_z.log_prob(X.view(-1, 784)).sum()\n",
    "    log_p_z = p_z.log_prob(Z).sum()\n",
    "    log_q_z = q_z_x.log_prob(Z).sum()\n",
    "    \n",
    "    out = torch.exp(log_p_x + log_p_z) / torch.exp(log_q_z)"
   ]
  },
  {
   "cell_type": "code",
   "execution_count": 24,
   "metadata": {},
   "outputs": [
    {
     "data": {
      "text/plain": [
       "tensor([[ 0.3867, -0.2701],\n",
       "        [ 0.8027, -0.5531],\n",
       "        [-0.8940,  0.4052],\n",
       "        ...,\n",
       "        [-0.6915,  0.9183],\n",
       "        [-1.9317, -0.9284],\n",
       "        [-0.0251,  0.4767]])"
      ]
     },
     "execution_count": 24,
     "metadata": {},
     "output_type": "execute_result"
    }
   ],
   "source": [
    "model = TrainedLinearVAE2\n",
    "SD = torch.tensor([0.05])\n",
    "p_z = tdist.MultivariateNormal(loc=torch.zeros(2), covariance_matrix=torch.eye(2))\n",
    "Z = p_z.sample((10000,))\n",
    "Z_param = model.decoder(Z)\n",
    "p_x_z = tdist.Normal(loc = Z_param, scale=SD)"
   ]
  },
  {
   "cell_type": "code",
   "execution_count": null,
   "metadata": {},
   "outputs": [],
   "source": [
    "with torch.no_grad():\n",
    "    S = 0\n",
    "    for idx, z in enumerate(Z_param):\n",
    "        p_x_z = tdist.Normal(loc = z, scale=SD)\n",
    "        S += torch.exp(p_x_z.log_prob(X.view(-1, 784)).sum())"
   ]
  },
  {
   "cell_type": "code",
   "execution_count": 19,
   "metadata": {},
   "outputs": [
    {
     "data": {
      "text/plain": [
       "torch.Size([10000, 2])"
      ]
     },
     "execution_count": 19,
     "metadata": {},
     "output_type": "execute_result"
    }
   ],
   "source": []
  }
 ],
 "metadata": {
  "kernelspec": {
   "display_name": "Python 3",
   "language": "python",
   "name": "python3"
  },
  "language_info": {
   "codemirror_mode": {
    "name": "ipython",
    "version": 3
   },
   "file_extension": ".py",
   "mimetype": "text/x-python",
   "name": "python",
   "nbconvert_exporter": "python",
   "pygments_lexer": "ipython3",
   "version": "3.10.8"
  },
  "orig_nbformat": 4,
  "vscode": {
   "interpreter": {
    "hash": "e7370f93d1d0cde622a1f8e1c04877d8463912d04d973331ad4851f04de6915a"
   }
  }
 },
 "nbformat": 4,
 "nbformat_minor": 2
}

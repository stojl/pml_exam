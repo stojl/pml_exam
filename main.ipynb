{
 "cells": [
  {
   "cell_type": "code",
   "execution_count": 1,
   "metadata": {},
   "outputs": [],
   "source": [
    "from pyro.optim import Adam\n",
    "from pyro.infer import SVI, Trace_ELBO\n",
    "import pyro\n",
    "import torch\n",
    "import VAE\n",
    "import ConvEncoderDecoder as CED\n",
    "import LinearEncoderDecoder as LED\n",
    "\n",
    "from pyro.contrib.examples.util import MNIST\n",
    "import torchvision.transforms as transforms\n",
    "import torchvision.datasets as dset"
   ]
  },
  {
   "cell_type": "code",
   "execution_count": 2,
   "metadata": {},
   "outputs": [],
   "source": [
    "def setup_data_loaders(batch_size=128, use_cuda=False):\n",
    "    root = './data'\n",
    "    download = True\n",
    "    trans = transforms.ToTensor()\n",
    "    train_set = MNIST(root=root, train=True, transform=trans,\n",
    "                      download=download)\n",
    "    test_set = MNIST(root=root, train=False, transform=trans)\n",
    "\n",
    "    kwargs = {'num_workers': 1, 'pin_memory': use_cuda}\n",
    "    train_loader = torch.utils.data.DataLoader(dataset=train_set,\n",
    "        batch_size=batch_size, shuffle=True, **kwargs)\n",
    "    test_loader = torch.utils.data.DataLoader(dataset=test_set,\n",
    "        batch_size=batch_size, shuffle=False, **kwargs)\n",
    "    return train_loader, test_loader"
   ]
  },
  {
   "cell_type": "code",
   "execution_count": 3,
   "metadata": {},
   "outputs": [],
   "source": [
    "def train(svi, train_loader, use_cuda=False):\n",
    "    # initialize loss accumulator\n",
    "    epoch_loss = 0.\n",
    "    # do a training epoch over each mini-batch x returned\n",
    "    # by the data loader\n",
    "    for x, _ in train_loader:\n",
    "        # if on GPU put mini-batch into CUDA memory\n",
    "        if use_cuda:\n",
    "            x = x.cuda()\n",
    "        # do ELBO gradient and accumulate loss\n",
    "        epoch_loss += svi.step(x)\n",
    "\n",
    "    # return epoch loss\n",
    "    normalizer_train = len(train_loader.dataset)\n",
    "    total_epoch_loss_train = epoch_loss / normalizer_train\n",
    "    return total_epoch_loss_train"
   ]
  },
  {
   "cell_type": "code",
   "execution_count": 4,
   "metadata": {},
   "outputs": [],
   "source": [
    "def evaluate(svi, test_loader, use_cuda=False):\n",
    "    # initialize loss accumulator\n",
    "    test_loss = 0.\n",
    "    # compute the loss over the entire test set\n",
    "    for x, _ in test_loader:\n",
    "        # if on GPU put mini-batch into CUDA memory\n",
    "        if use_cuda:\n",
    "            x = x.cuda()\n",
    "        # compute ELBO estimate and accumulate loss\n",
    "        test_loss += svi.evaluate_loss(x)\n",
    "    normalizer_test = len(test_loader.dataset)\n",
    "    total_epoch_loss_test = test_loss / normalizer_test\n",
    "    return total_epoch_loss_test"
   ]
  },
  {
   "cell_type": "code",
   "execution_count": 6,
   "metadata": {},
   "outputs": [
    {
     "name": "stdout",
     "output_type": "stream",
     "text": [
      "[epoch 000]  average training loss: 203.8435\n",
      "[epoch 000] average test loss: 174.3890\n",
      "[epoch 001]  average training loss: 169.2816\n",
      "[epoch 002]  average training loss: 163.4734\n",
      "[epoch 003]  average training loss: 159.8700\n",
      "[epoch 004]  average training loss: 156.9741\n",
      "[epoch 005]  average training loss: 154.7339\n",
      "[epoch 005] average test loss: 154.4602\n",
      "[epoch 006]  average training loss: 152.8922\n",
      "[epoch 007]  average training loss: 151.1480\n",
      "[epoch 008]  average training loss: 149.7984\n",
      "[epoch 009]  average training loss: 148.5945\n",
      "[epoch 010]  average training loss: 147.6509\n",
      "[epoch 010] average test loss: 148.3640\n",
      "[epoch 011]  average training loss: 146.8186\n",
      "[epoch 012]  average training loss: 146.1433\n",
      "[epoch 013]  average training loss: 145.4916\n",
      "[epoch 014]  average training loss: 144.9938\n",
      "[epoch 015]  average training loss: 144.5810\n",
      "[epoch 015] average test loss: 146.2313\n",
      "[epoch 016]  average training loss: 144.0313\n",
      "[epoch 017]  average training loss: 143.5667\n",
      "[epoch 018]  average training loss: 143.2528\n",
      "[epoch 019]  average training loss: 142.8611\n"
     ]
    }
   ],
   "source": [
    "USE_CUDA = False\n",
    "NUM_EPOCHS = 20\n",
    "TEST_FREQUENCY = 5\n",
    "train_loader, test_loader = setup_data_loaders(batch_size=256, use_cuda=USE_CUDA)\n",
    "\n",
    "# clear param store\n",
    "pyro.clear_param_store()\n",
    "\n",
    "model = VAE.VAE(LED.LinearEncoder(2, 400, 100), LED.LinearDecoder(2, 400, 100))\n",
    "#model = VAE.VAE(CED.ConvEncoder(2, 400), CED.ConvDecoder(2, 400))\n",
    "\n",
    "optimizer = Adam({\"lr\": 1.0e-3})\n",
    "svi = SVI(model.model, model.guide, optimizer, loss=Trace_ELBO())\n",
    "\n",
    "train_elbo = []\n",
    "test_elbo = []\n",
    "# training loop\n",
    "for epoch in range(NUM_EPOCHS):\n",
    "    total_epoch_loss_train = train(svi, train_loader, use_cuda=USE_CUDA)\n",
    "    train_elbo.append(-total_epoch_loss_train)\n",
    "    print(\"[epoch %03d]  average training loss: %.4f\" % (epoch, total_epoch_loss_train))\n",
    "\n",
    "    if epoch % TEST_FREQUENCY == 0:\n",
    "        # report test diagnostics\n",
    "        total_epoch_loss_test = evaluate(svi, test_loader, use_cuda=USE_CUDA)\n",
    "        test_elbo.append(-total_epoch_loss_test)\n",
    "        print(\"[epoch %03d] average test loss: %.4f\" % (epoch, total_epoch_loss_test))"
   ]
  },
  {
   "cell_type": "code",
   "execution_count": 36,
   "metadata": {},
   "outputs": [
    {
     "data": {
      "image/png": "[encoded data removed]",
      "text/plain": [
       "<Figure size 640x480 with 1 Axes>"
      ]
     },
     "metadata": {},
     "output_type": "display_data"
    }
   ],
   "source": [
    "import numpy as np\n",
    "s = model.decoder(torch.randn(1, 2)).detach().numpy().reshape(28, 28)\n",
    "import matplotlib.pyplot as plt\n",
    "\n",
    "plt.imshow(s)\n",
    "plt.show()\n"
   ]
  },
  {
   "cell_type": "code",
   "execution_count": 5,
   "metadata": {},
   "outputs": [
    {
     "name": "stdout",
     "output_type": "stream",
     "text": [
      "[epoch 000]  average training loss: 237.8967\n"
     ]
    },
    {
     "ename": "NameError",
     "evalue": "name 'svi' is not defined",
     "output_type": "error",
     "traceback": [
      "\u001b[0;31m---------------------------------------------------------------------------\u001b[0m",
      "\u001b[0;31mNameError\u001b[0m                                 Traceback (most recent call last)",
      "Cell \u001b[0;32mIn[5], line 24\u001b[0m\n\u001b[1;32m     20\u001b[0m \u001b[39mprint\u001b[39m(\u001b[39m\"\u001b[39m\u001b[39m[epoch \u001b[39m\u001b[39m%03d\u001b[39;00m\u001b[39m]  average training loss: \u001b[39m\u001b[39m%.4f\u001b[39;00m\u001b[39m\"\u001b[39m \u001b[39m%\u001b[39m (epoch, total_epoch_loss_train))\n\u001b[1;32m     22\u001b[0m \u001b[39mif\u001b[39;00m epoch \u001b[39m%\u001b[39m TEST_FREQUENCY \u001b[39m==\u001b[39m \u001b[39m0\u001b[39m:\n\u001b[1;32m     23\u001b[0m     \u001b[39m# report test diagnostics\u001b[39;00m\n\u001b[0;32m---> 24\u001b[0m     total_epoch_loss_test \u001b[39m=\u001b[39m evaluate(svi, test_loader, use_cuda\u001b[39m=\u001b[39mUSE_CUDA)\n\u001b[1;32m     25\u001b[0m     test_elbo\u001b[39m.\u001b[39mappend(\u001b[39m-\u001b[39mtotal_epoch_loss_test)\n\u001b[1;32m     26\u001b[0m     \u001b[39mprint\u001b[39m(\u001b[39m\"\u001b[39m\u001b[39m[epoch \u001b[39m\u001b[39m%03d\u001b[39;00m\u001b[39m] average test loss: \u001b[39m\u001b[39m%.4f\u001b[39;00m\u001b[39m\"\u001b[39m \u001b[39m%\u001b[39m (epoch, total_epoch_loss_test))\n",
      "\u001b[0;31mNameError\u001b[0m: name 'svi' is not defined"
     ]
    }
   ],
   "source": [
    "USE_CUDA = False\n",
    "NUM_EPOCHS = 20\n",
    "TEST_FREQUENCY = 5\n",
    "train_loader, test_loader = setup_data_loaders(batch_size=256, use_cuda=USE_CUDA)\n",
    "\n",
    "# clear param store\n",
    "pyro.clear_param_store()\n",
    "\n",
    "model2 = VAE.VAE(CED.ConvEncoder(2, 400), CED.ConvDecoder(2, 400))\n",
    "\n",
    "optimizer2 = Adam({\"lr\": 1.0e-3})\n",
    "svi2 = SVI(model2.model, model2.guide, optimizer2, loss=Trace_ELBO())\n",
    "\n",
    "train_elbo = []\n",
    "test_elbo = []\n",
    "# training loop\n",
    "for epoch in range(NUM_EPOCHS):\n",
    "    total_epoch_loss_train = train(svi2, train_loader, use_cuda=USE_CUDA)\n",
    "    train_elbo.append(-total_epoch_loss_train)\n",
    "    print(\"[epoch %03d]  average training loss: %.4f\" % (epoch, total_epoch_loss_train))\n",
    "\n",
    "    if epoch % TEST_FREQUENCY == 0:\n",
    "        # report test diagnostics\n",
    "        total_epoch_loss_test = evaluate(svi2, test_loader, use_cuda=USE_CUDA)\n",
    "        test_elbo.append(-total_epoch_loss_test)\n",
    "        print(\"[epoch %03d] average test loss: %.4f\" % (epoch, total_epoch_loss_test))"
   ]
  },
  {
   "cell_type": "code",
   "execution_count": 64,
   "metadata": {},
   "outputs": [
    {
     "data": {
      "image/png": "[encoded data removed]",
      "text/plain": [
       "<Figure size 640x480 with 1 Axes>"
      ]
     },
     "metadata": {},
     "output_type": "display_data"
    }
   ],
   "source": [
    "s = model2.decoder(torch.randn(1, 2)).detach().numpy().reshape(28, 28)\n",
    "\n",
    "plt.imshow(s)\n",
    "plt.show()"
   ]
  },
  {
   "cell_type": "code",
   "execution_count": 65,
   "metadata": {},
   "outputs": [
    {
     "name": "stdout",
     "output_type": "stream",
     "text": [
      "[epoch 000]  average training loss: 213.5364\n",
      "[epoch 000] average test loss: 190.0308\n",
      "[epoch 001]  average training loss: 188.3079\n",
      "[epoch 002]  average training loss: 184.8558\n",
      "[epoch 003]  average training loss: 174.4955\n",
      "[epoch 004]  average training loss: 170.8730\n",
      "[epoch 005]  average training loss: 168.6801\n",
      "[epoch 005] average test loss: 167.6675\n",
      "[epoch 006]  average training loss: 166.2453\n",
      "[epoch 007]  average training loss: 164.1337\n",
      "[epoch 008]  average training loss: 161.5362\n",
      "[epoch 009]  average training loss: 159.5850\n",
      "[epoch 010]  average training loss: 158.0388\n",
      "[epoch 010] average test loss: 157.6370\n",
      "[epoch 011]  average training loss: 156.6311\n",
      "[epoch 012]  average training loss: 155.6400\n",
      "[epoch 013]  average training loss: 154.7107\n",
      "[epoch 014]  average training loss: 154.0108\n",
      "[epoch 015]  average training loss: 153.3893\n",
      "[epoch 015] average test loss: 153.3905\n",
      "[epoch 016]  average training loss: 152.8223\n",
      "[epoch 017]  average training loss: 152.2392\n",
      "[epoch 018]  average training loss: 151.8329\n",
      "[epoch 019]  average training loss: 151.3410\n"
     ]
    }
   ],
   "source": [
    "USE_CUDA = False\n",
    "NUM_EPOCHS = 20\n",
    "TEST_FREQUENCY = 5\n",
    "train_loader, test_loader = setup_data_loaders(batch_size=256, use_cuda=USE_CUDA)\n",
    "\n",
    "# clear param store\n",
    "pyro.clear_param_store()\n",
    "\n",
    "model3 = VAE.VAE(CED.ConvEncoder(2, 400), LED.LinearDecoder(2, 400, 100))\n",
    "#model = VAE.VAE(CED.ConvEncoder(2, 400), CED.ConvDecoder(2, 400))\n",
    "\n",
    "optimizer = Adam({\"lr\": 1.0e-3})\n",
    "svi = SVI(model3.model, model3.guide, optimizer, loss=Trace_ELBO())\n",
    "\n",
    "train_elbo = []\n",
    "test_elbo = []\n",
    "# training loop\n",
    "for epoch in range(NUM_EPOCHS):\n",
    "    total_epoch_loss_train = train(svi, train_loader, use_cuda=USE_CUDA)\n",
    "    train_elbo.append(-total_epoch_loss_train)\n",
    "    print(\"[epoch %03d]  average training loss: %.4f\" % (epoch, total_epoch_loss_train))\n",
    "\n",
    "    if epoch % TEST_FREQUENCY == 0:\n",
    "        # report test diagnostics\n",
    "        total_epoch_loss_test = evaluate(svi, test_loader, use_cuda=USE_CUDA)\n",
    "        test_elbo.append(-total_epoch_loss_test)\n",
    "        print(\"[epoch %03d] average test loss: %.4f\" % (epoch, total_epoch_loss_test))"
   ]
  },
  {
   "cell_type": "code",
   "execution_count": 88,
   "metadata": {},
   "outputs": [
    {
     "data": {
      "image/png": "[encoded data removed]",
      "text/plain": [
       "<Figure size 640x480 with 1 Axes>"
      ]
     },
     "metadata": {},
     "output_type": "display_data"
    }
   ],
   "source": [
    "s = model2.decoder(torch.randn(1, 2)).detach().numpy().reshape(28, 28)\n",
    "\n",
    "plt.imshow(s)\n",
    "plt.show()"
   ]
  }
 ],
 "metadata": {
  "kernelspec": {
   "display_name": "Python 3",
   "language": "python",
   "name": "python3"
  },
  "language_info": {
   "codemirror_mode": {
    "name": "ipython",
    "version": 3
   },
   "file_extension": ".py",
   "mimetype": "text/x-python",
   "name": "python",
   "nbconvert_exporter": "python",
   "pygments_lexer": "ipython3",
   "version": "3.10.8"
  },
  "orig_nbformat": 4,
  "vscode": {
   "interpreter": {
    "hash": "e7370f93d1d0cde622a1f8e1c04877d8463912d04d973331ad4851f04de6915a"
   }
  }
 },
 "nbformat": 4,
 "nbformat_minor": 2
}

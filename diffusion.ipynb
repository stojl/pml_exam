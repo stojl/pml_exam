{
 "cells": [
  {
   "cell_type": "code",
   "execution_count": 1,
   "metadata": {},
   "outputs": [],
   "source": [
    "import torch\n",
    "import torch.nn as nn\n",
    "import torch.distributions as tdist\n",
    "import torch.nn.functional as F\n",
    "\n",
    "import dataloader"
   ]
  },
  {
   "cell_type": "code",
   "execution_count": 24,
   "metadata": {},
   "outputs": [],
   "source": [
    "test = torch.linspace(0, 10, 256 * 3 * 28 * 28).view(256, 3 * 28 * 28)\n",
    "mha = nn.MultiheadAttention(3 * 28 * 28, 2, batch_first=True)\n",
    "\n",
    "attention, _ = mha(test, test, test)"
   ]
  },
  {
   "cell_type": "code",
   "execution_count": 2,
   "metadata": {},
   "outputs": [],
   "source": [
    "class DownBlock(nn.Module):\n",
    "    def __init__(self, in_channels, out_channels, dim, embedding_size):\n",
    "        super(DownBlock, self).__init__()\n",
    "        self.out_channels = out_channels\n",
    "        self.dim = dim\n",
    "        self.time = nn.Linear(embedding_size, out_channels * dim * dim)\n",
    "        self.Conv1 = nn.Conv2d(in_channels, out_channels, 3, padding=1)\n",
    "        self.Conv2 = nn.Conv2d(out_channels, out_channels, 3, padding=1)\n",
    "        self.ln = nn.LayerNorm((dim, dim))\n",
    "        self.Downscale = nn.Conv2d(out_channels, out_channels, 8)\n",
    "        self.relu = nn.ReLU()\n",
    "\n",
    "    def forward(self, x, t):\n",
    "\n",
    "        x = self.ln(self.relu(self.Conv1(x)))\n",
    "        \n",
    "        t = self.relu(self.time(t)).view(-1, self.out_channels, self.dim, self.dim)\n",
    "\n",
    "        x = x + t\n",
    "\n",
    "        x = self.ln(self.relu(self.Conv2(x)))\n",
    "        x = self.Downscale(x)\n",
    "\n",
    "        return x\n",
    "\n",
    "class UpBlock(nn.Module):\n",
    "    def __init__(self, in_channels, out_channels, dim, embedding_size):\n",
    "        super(UpBlock, self).__init__()\n",
    "        self.out_channels = out_channels\n",
    "        self.dim = dim\n",
    "        self.time = nn.Linear(embedding_size, out_channels * dim * dim)\n",
    "        self.Conv1 = nn.Conv2d(in_channels, out_channels, 3, padding=1)\n",
    "        self.Conv2 = nn.Conv2d(out_channels, out_channels, 3, padding=1)\n",
    "        self.ln = nn.LayerNorm((dim, dim))\n",
    "        self.Upscale = nn.ConvTranspose2d(out_channels, out_channels, 8)\n",
    "        self.relu = nn.ReLU()\n",
    "    \n",
    "    def forward(self, x, t):\n",
    "\n",
    "        x = self.ln(self.relu(self.Conv1(x)))\n",
    "\n",
    "        t = self.relu(self.time(t)).view(-1, self.out_channels, self.dim, self.dim)\n",
    "\n",
    "        x = x + t\n",
    "\n",
    "        x = self.ln(self.relu(self.Conv2(x)))\n",
    "        x = self.Upscale(x)\n",
    "\n",
    "        return x\n",
    "\n",
    "class DiffusionModel2(nn.Module):\n",
    "    def __init__(self, beta):\n",
    "        super(DiffusionModel2, self).__init__()\n",
    "        \n",
    "        self.device = torch.device(\"cuda:0\" if torch.cuda.is_available() else \"cpu\")\n",
    "        self.beta = beta.to(self.device) # Decay schedule\n",
    "        self.T = beta.shape[0]\n",
    "\n",
    "        self.D1 = DownBlock(1, 32, 28, 32) # D1 -> U3\n",
    "        self.D2 = DownBlock(32, 64, 21, 32) # D2 -> U2\n",
    "        self.D3 = DownBlock(64, 128, 14, 32)\n",
    "\n",
    "        self.U1 = UpBlock(128, 64, 7, 32)\n",
    "        self.U2 = UpBlock(128, 32, 14, 32)\n",
    "        self.U3 = UpBlock(64, 32, 21, 32)\n",
    "        \n",
    "        self.time = nn.Linear(32, 32 * 28 * 28)\n",
    "        self.ln = nn.LayerNorm((28, 28))\n",
    "        self.Out1 = nn.Conv2d(32, 16, 3, padding=1)\n",
    "        self.Out2 = nn.Conv2d(16, 1, 3, padding=1)\n",
    "        \n",
    "        self.relu = nn.ReLU()\n",
    "        \n",
    "    def alphabar(self, t):\n",
    "        alpha = torch.zeros(t.shape[0], device=self.device)\n",
    "        for idx, s in enumerate(t):\n",
    "            alpha[idx] = torch.prod(1 - self.beta[0:s])\n",
    "        return alpha\n",
    "\n",
    "    def embedtime(self, t, embedding_size):\n",
    "        w = 1.0 / (10000 ** (torch.arange(0, embedding_size, 2, dtype=torch.float32, device=self.device) / embedding_size))\n",
    "        y = torch.sin(t.view(t.shape[0], 1).repeat(1, embedding_size // 2) * w)\n",
    "        x = torch.cos(t.view(t.shape[0], 1).repeat(1, embedding_size // 2) * w)\n",
    "        return torch.cat([x, y], dim=1)\n",
    "\n",
    "    def sample_image(self):\n",
    "        samples = torch.zeros((self.T + 1, 784), device=self.device)\n",
    "        \n",
    "        samples[self.T] = torch.randn(784, device=self.device)\n",
    "        \n",
    "        with torch.no_grad():\n",
    "            for t in torch.arange(self.T - 1, 0, -1):\n",
    "                beta = self.beta[t]\n",
    "                alfa = 1 - beta\n",
    "                alfabar = self.alphabar(torch.tensor([t + 1], device=self.device))\n",
    "                z = torch.randn(784, device=self.device)\n",
    "                xt = samples[t + 1]\n",
    "                eps = self.forward(xt.view(1, 1, 28, 28), torch.tensor([t + 1], device=self.device)).view(784)\n",
    "                samples[t] = (xt - beta * eps / (torch.sqrt(1 - alfabar))) / torch.sqrt(alfa) + torch.sqrt(beta) * z\n",
    "            \n",
    "            beta = self.beta[0]\n",
    "            alfa = 1 - beta\n",
    "            alfabar  = self.alphabar(torch.tensor([1], device=self.device))\n",
    "            xt = samples[1]\n",
    "            eps = self.forward(xt.view(1, 1, 28, 28), torch.tensor([1], device=self.device)).view(784)\n",
    "            samples[0] = (xt - beta * eps / (torch.sqrt(1 - alfabar))) / torch.sqrt(alfa)\n",
    "        \n",
    "        return samples\n",
    "\n",
    "    def forward(self, x, t):\n",
    "        T = self.embedtime(t, 32)\n",
    "        x_to_U3 = self.D1(x, T)\n",
    "        x_to_U2 = self.D2(x_to_U3, T)\n",
    "        \n",
    "        x = self.D3(x_to_U2, T)\n",
    "        x = self.U1(x, T)\n",
    "        \n",
    "        x = torch.cat([x, x_to_U2], dim=1)\n",
    "        x = self.U2(x, T)\n",
    "        \n",
    "        x = torch.cat([x, x_to_U3], dim=1)\n",
    "        x = self.U3(x, T)\n",
    "        \n",
    "        Tx = self.relu(self.time(T))\n",
    "        x = Tx.view(-1, 32, 28, 28) + x\n",
    "        x = self.ln(self.relu(self.Out1(x)))\n",
    "        x = self.Out2(x)\n",
    "\n",
    "        return x"
   ]
  },
  {
   "cell_type": "code",
   "execution_count": 3,
   "metadata": {},
   "outputs": [],
   "source": [
    "def train_diff(epoch, model, optimizer, loss_function, train_loader):\n",
    "    model.train() # so that everything was gradients and we can do backprop and so on...\n",
    "    train_loss = 0\n",
    "    input = torch.zeros((train_loader.batch_size, 784), device = model.device)\n",
    "    for batch_idx, (data, _) in enumerate(train_loader):\n",
    "        data = data.view(-1, 784)\n",
    "        optimizer.zero_grad() # \"reset\" gradients to 0 for text iteration\n",
    "        \n",
    "        t = torch.randint(1, model.T, (train_loader.batch_size,))\n",
    "        eps = torch.normal(0, 1, (train_loader.batch_size, 784))\n",
    "        alf = model.alphabar(t)\n",
    "        for idx, x in enumerate(data):\n",
    "            input[idx] = torch.sqrt(alf[idx]) * data[idx] + torch.sqrt(1 - alf[idx]) * eps[idx]\n",
    "        eps_nn = model(input.view(-1, 1, 28, 28), t)\n",
    "        loss = loss_function(eps.view(-1, 784), eps_nn.view(-1, 784))\n",
    "        loss.backward()\n",
    "        train_loss += loss.item()\n",
    "        optimizer.step() # backpropagation\n",
    "        \n",
    "    print('====> Epoch: {} Average loss: {:.4f}'.format(\n",
    "          epoch, train_loss / len(train_loader.dataset)))"
   ]
  },
  {
   "cell_type": "code",
   "execution_count": 4,
   "metadata": {},
   "outputs": [],
   "source": [
    "model = DiffusionModel2(torch.linspace(1e-4, 0.02, 1000))\n",
    "loss = nn.MSELoss()\n",
    "train_loader, test_loader = dataloader.setup_data_loaders(batch_size=512, use_cuda=False)\n",
    "optimizer = torch.optim.Adam(model.parameters(), lr = 0.001)"
   ]
  },
  {
   "cell_type": "code",
   "execution_count": 5,
   "metadata": {},
   "outputs": [],
   "source": [
    "EPOCHS = 1\n",
    "for epoch in range(EPOCHS):\n",
    "    train_diff(epoch, model, optimizer, loss, train_loader)"
   ]
  },
  {
   "cell_type": "code",
   "execution_count": 63,
   "metadata": {},
   "outputs": [],
   "source": []
  },
  {
   "cell_type": "code",
   "execution_count": 66,
   "metadata": {},
   "outputs": [
    {
     "data": {
      "text/plain": [
       "<matplotlib.image.AxesImage at 0x7f01f1b91990>"
      ]
     },
     "execution_count": 66,
     "metadata": {},
     "output_type": "execute_result"
    },
    {
     "data": {
      "image/png": "[encoded data removed]",
      "text/plain": [
       "<Figure size 640x480 with 1 Axes>"
      ]
     },
     "metadata": {},
     "output_type": "display_data"
    }
   ],
   "source": [
    "import matplotlib.pyplot as plt\n",
    "\n"
   ]
  },
  {
   "cell_type": "code",
   "execution_count": 74,
   "metadata": {},
   "outputs": [
    {
     "ename": "EOFError",
     "evalue": "Ran out of input",
     "output_type": "error",
     "traceback": [
      "\u001b[0;31m---------------------------------------------------------------------------\u001b[0m",
      "\u001b[0;31mEOFError\u001b[0m                                  Traceback (most recent call last)",
      "Cell \u001b[0;32mIn[74], line 4\u001b[0m\n\u001b[1;32m      1\u001b[0m \u001b[39mimport\u001b[39;00m \u001b[39mpickle\u001b[39;00m\n\u001b[1;32m      2\u001b[0m file \u001b[39m=\u001b[39m \u001b[39mopen\u001b[39m(\u001b[39m'\u001b[39m\u001b[39mdiffusion_4\u001b[39m\u001b[39m'\u001b[39m, \u001b[39m'\u001b[39m\u001b[39mrb\u001b[39m\u001b[39m'\u001b[39m)\n\u001b[0;32m----> 4\u001b[0m test \u001b[39m=\u001b[39m pickle\u001b[39m.\u001b[39;49mload(file)\n",
      "\u001b[0;31mEOFError\u001b[0m: Ran out of input"
     ]
    }
   ],
   "source": []
  },
  {
   "cell_type": "code",
   "execution_count": 81,
   "metadata": {},
   "outputs": [
    {
     "data": {
      "text/plain": [
       "<All keys matched successfully>"
      ]
     },
     "execution_count": 81,
     "metadata": {},
     "output_type": "execute_result"
    }
   ],
   "source": [
    "model = DiffusionModel2(torch.linspace(1e-4, 0.02, 1000))\n",
    "weights = torch.load('diffusionmodelunet.pth', torch.device('cpu'))\n",
    "model.load_state_dict(weights())\n"
   ]
  },
  {
   "cell_type": "code",
   "execution_count": 87,
   "metadata": {},
   "outputs": [],
   "source": [
    "test = model.sample_image()"
   ]
  },
  {
   "cell_type": "code",
   "execution_count": 88,
   "metadata": {},
   "outputs": [
    {
     "data": {
      "text/plain": [
       "<matplotlib.image.AxesImage at 0x7fb78be1d030>"
      ]
     },
     "execution_count": 88,
     "metadata": {},
     "output_type": "execute_result"
    },
    {
     "data": {
      "image/png": "[encoded data removed]",
      "text/plain": [
       "<Figure size 640x480 with 1 Axes>"
      ]
     },
     "metadata": {},
     "output_type": "display_data"
    }
   ],
   "source": [
    "import matplotlib.pyplot as plt\n",
    "\n",
    "plt.imshow(test[0].view(28, 28))"
   ]
  }
 ],
 "metadata": {
  "kernelspec": {
   "display_name": "Python 3",
   "language": "python",
   "name": "python3"
  },
  "language_info": {
   "codemirror_mode": {
    "name": "ipython",
    "version": 3
   },
   "file_extension": ".py",
   "mimetype": "text/x-python",
   "name": "python",
   "nbconvert_exporter": "python",
   "pygments_lexer": "ipython3",
   "version": "3.10.8 (main, Nov  1 2022, 14:18:21) [GCC 12.2.0]"
  },
  "orig_nbformat": 4,
  "vscode": {
   "interpreter": {
    "hash": "e7370f93d1d0cde622a1f8e1c04877d8463912d04d973331ad4851f04de6915a"
   }
  }
 },
 "nbformat": 4,
 "nbformat_minor": 2
}

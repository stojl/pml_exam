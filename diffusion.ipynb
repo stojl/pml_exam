{
 "cells": [
  {
   "cell_type": "code",
   "execution_count": 44,
   "metadata": {},
   "outputs": [],
   "source": [
    "import torch\n",
    "import torch.nn as nn\n",
    "import torch.distributions as tdist\n",
    "\n",
    "import dataloader"
   ]
  },
  {
   "cell_type": "code",
   "execution_count": 42,
   "metadata": {},
   "outputs": [
    {
     "data": {
      "text/plain": [
       "torch.Size([256, 10, 28, 28])"
      ]
     },
     "execution_count": 42,
     "metadata": {},
     "output_type": "execute_result"
    }
   ],
   "source": [
    "x = torch.linspace(0, 10, 256 * 784).view(-1, 1, 28, 28)\n",
    "\n",
    "c1 = nn.Conv2d(1, 10, 3, padding=1)\n",
    "p1 = nn.LayerNorm([28, 28])\n",
    "\n",
    "p1(c1(x)).shape\n"
   ]
  },
  {
   "cell_type": "code",
   "execution_count": 57,
   "metadata": {},
   "outputs": [],
   "source": [
    "class DiffusionModel(nn.Module):\n",
    "    def __init__(self, beta):\n",
    "        super(DiffusionModel, self).__init__()\n",
    "        self.device = device = torch.device(\"cuda:0\" if torch.cuda.is_available() else \"cpu\")\n",
    "        self.beta = beta.to(self.device) # Decay schedule\n",
    "        self.T = beta.shape[0]\n",
    "        \n",
    "        self.c1 = nn.Conv2d(1, 10, 3, padding=1)\n",
    "        self.b1 = nn.LayerNorm([28, 28])\n",
    "        \n",
    "        self.c2 = nn.Conv2d(10, 10, 3, padding=1)\n",
    "        self.b2 = nn.LayerNorm([28, 28])\n",
    "        \n",
    "        self.c3 = nn.Conv2d(10, 10, 3, padding=1)\n",
    "        self.b3 = nn.LayerNorm([28, 28])\n",
    "        \n",
    "        self.c4 = nn.Conv2d(10, 10, 3, padding=1)\n",
    "        self.b4 = nn.LayerNorm([28, 28])\n",
    "        \n",
    "        self.c5 = nn.Conv2d(10, 10, 3, padding=1)\n",
    "        self.b5 = nn.LayerNorm([28, 28])\n",
    "        \n",
    "        self.c6 = nn.Conv2d(10, 10, 3, padding=1)\n",
    "        self.b6 = nn.LayerNorm([28, 28])\n",
    "        \n",
    "        self.c7 = nn.Conv2d(10, 10, 3, padding=1)\n",
    "        self.b7 = nn.LayerNorm([28, 28])\n",
    "        \n",
    "        self.c8 = nn.Conv2d(10, 10, 3, padding=1)\n",
    "        self.b8 = nn.LayerNorm([28, 28])\n",
    "        \n",
    "        self.c9 = nn.Conv2d(10, 10, 3, padding=1)\n",
    "        self.b9 = nn.LayerNorm([28, 28])\n",
    "        \n",
    "        self.c10 = nn.Conv2d(10, 10, 3, padding=1)\n",
    "        self.b10 = nn.LayerNorm([28, 28])\n",
    "        \n",
    "        self.c11 = nn.Conv2d(10, 10, 3, padding=1)\n",
    "        self.b11 = nn.LayerNorm([28, 28])\n",
    "        \n",
    "        self.c12 = nn.Conv2d(10, 10, 3, padding=1)\n",
    "        self.b12 = nn.LayerNorm([28, 28])\n",
    "        \n",
    "        self.c13 = nn.Conv2d(10, 1, 3, padding=1)\n",
    "        \n",
    "        self.relu = nn.ReLU()\n",
    "        \n",
    "    def alphabar(self, t):\n",
    "        alpha = torch.zeros(t.shape[0], device=self.device)\n",
    "        for idx, s in enumerate(t):\n",
    "            alpha[idx] = torch.prod(1 - self.beta[0:s])\n",
    "        return alpha\n",
    "    \n",
    "    def embedtime(self, t, embedding_size, dimensions):\n",
    "        emb = torch.zeros((embedding_size // 2) * t.shape[0], device=self.device).reshape(t.shape[0], embedding_size // 2)\n",
    "        emb2 = torch.zeros((embedding_size // 2) * t.shape[0], device=self.device).reshape(t.shape[0], embedding_size // 2)\n",
    "        s = torch.linspace(2, embedding_size // 2, embedding_size // 2, device=self.device)\n",
    "        for idx, samp in enumerate(t):\n",
    "            emb[idx] = torch.sin(2 * s * torch.pi * samp / self.T)\n",
    "            emb2[idx] = torch.cos(2 * s * torch.pi * samp / self.T)\n",
    "\n",
    "        return torch.cat([emb, emb2], dim = 1).view(-1, embedding_size, 1, 1).repeat(1, 1, dimensions, dimensions)\n",
    "    \n",
    "    def sample_image(self):\n",
    "        samples = torch.zeros((self.T + 1, 784), device=self.device)\n",
    "        \n",
    "        samples[self.T] = torch.randn(784, device=self.device)\n",
    "        \n",
    "        with torch.no_grad():\n",
    "            for t in torch.arange(self.T - 1, 0, -1):\n",
    "                beta = self.beta[t]\n",
    "                alfa = 1 - beta\n",
    "                alfabar = self.alphabar(torch.tensor([t + 1], device=self.device))\n",
    "                z = torch.randn(784, device=self.device)\n",
    "                xt = samples[t + 1]\n",
    "                eps = self.forward(xt.view(1, 1, 28, 28), torch.tensor([t + 1], device=self.device)).view(784)\n",
    "                samples[t] = (xt - beta * eps / (torch.sqrt(1 - alfabar))) / torch.sqrt(alfa) + torch.sqrt(beta) * z\n",
    "            \n",
    "            beta = self.beta[0]\n",
    "            alfa = 1 - beta\n",
    "            alfabar  = self.alphabar(torch.tensor([1], device=self.device))\n",
    "            xt = samples[1]\n",
    "            eps = self.forward(xt.view(1, 1, 28, 28), torch.tensor([1], device=self.device)).view(784)\n",
    "            samples[0] = (xt - beta * eps / (torch.sqrt(1 - alfabar))) / torch.sqrt(alfa)\n",
    "        \n",
    "        return samples\n",
    "        \n",
    "    def forward(self, x, t):\n",
    "        T = self.embedtime(t, 10, 28)\n",
    "        \n",
    "        x = self.c1(x) + T\n",
    "        x = self.b1(x)\n",
    "        x = self.relu(x)\n",
    "        \n",
    "        x = self.c2(x) + T\n",
    "        x = self.b2(x)\n",
    "        x = self.relu(x)\n",
    "        \n",
    "        x = self.c3(x) + T\n",
    "        x = self.b3(x)\n",
    "        x = self.relu(x)\n",
    "        \n",
    "        x = self.c4(x) + T\n",
    "        x = self.b4(x)\n",
    "        x = self.relu(x)\n",
    "        \n",
    "        x = self.c5(x) + T\n",
    "        x = self.b5(x)\n",
    "        x = self.relu(x)\n",
    "\n",
    "        x = self.c6(x) + T\n",
    "        x = self.b6(x)\n",
    "        x = self.relu(x)\n",
    "        print(x.shape)\n",
    "        x = self.c7(x) + T\n",
    "        x = self.b7(x)\n",
    "        x = self.relu(x)\n",
    "        \n",
    "        x = self.c8(x) + T\n",
    "        x = self.b8(x)\n",
    "        x = self.relu(x)\n",
    "        \n",
    "        x = self.c9(x) + T\n",
    "        x = self.b9(x)\n",
    "        x = self.relu(x)\n",
    "        \n",
    "        x = self.c10(x) + T\n",
    "        x = self.b10(x)\n",
    "        x = self.relu(x)\n",
    "        \n",
    "        x = self.c11(x) + T\n",
    "        x = self.b11(x)\n",
    "        x = self.relu(x)\n",
    "        \n",
    "        x = self.c12(x) + T\n",
    "        x = self.b12(x)\n",
    "        x = self.relu(x)\n",
    "        print(x.shape)\n",
    "        x = self.c13(x)\n",
    "        \n",
    "        return x"
   ]
  },
  {
   "cell_type": "code",
   "execution_count": 58,
   "metadata": {},
   "outputs": [],
   "source": [
    "def train_diff(epoch, model, optimizer, loss_function, train_loader):\n",
    "    model.train() # so that everything was gradients and we can do backprop and so on...\n",
    "    train_loss = 0\n",
    "    input = torch.zeros((train_loader.batch_size, 784), device = model.device)\n",
    "    for batch_idx, (data, _) in enumerate(train_loader):\n",
    "        data = data.view(-1, 784)\n",
    "        optimizer.zero_grad() # \"reset\" gradients to 0 for text iteration\n",
    "        \n",
    "        t = torch.randint(1, model.T, (train_loader.batch_size,))\n",
    "        eps = torch.normal(0, 1, (train_loader.batch_size, 784))\n",
    "        alf = model.alphabar(t)\n",
    "        for idx, x in enumerate(data):\n",
    "            input[idx] = torch.sqrt(alf[idx]) * data[idx] + torch.sqrt(1 - alf[idx]) * eps[idx]\n",
    "        eps_nn = model(input.view(-1, 1, 28, 28), t)\n",
    "        loss = loss_function(eps.view(-1, 784), eps_nn.view(-1, 784))\n",
    "        loss.backward()\n",
    "        train_loss += loss.item()\n",
    "        optimizer.step() # backpropagation\n",
    "        \n",
    "    print('====> Epoch: {} Average loss: {:.4f}'.format(\n",
    "          epoch, train_loss / len(train_loader.dataset)))"
   ]
  },
  {
   "cell_type": "code",
   "execution_count": 59,
   "metadata": {},
   "outputs": [],
   "source": [
    "model = DiffusionModel(torch.linspace(1e-4, 0.02, 1000))\n",
    "loss = nn.MSELoss()\n",
    "train_loader, test_loader = dataloader.setup_data_loaders(batch_size=512, use_cuda=False)\n",
    "optimizer = torch.optim.Adam(model.parameters(), lr = 0.001)"
   ]
  },
  {
   "cell_type": "code",
   "execution_count": 60,
   "metadata": {},
   "outputs": [
    {
     "name": "stdout",
     "output_type": "stream",
     "text": [
      "torch.Size([512, 10, 28, 28])\n"
     ]
    },
    {
     "ename": "RuntimeError",
     "evalue": "Given groups=1, weight of size [10, 1, 3, 3], expected input[512, 10, 28, 28] to have 1 channels, but got 10 channels instead",
     "output_type": "error",
     "traceback": [
      "\u001b[0;31m---------------------------------------------------------------------------\u001b[0m",
      "\u001b[0;31mRuntimeError\u001b[0m                              Traceback (most recent call last)",
      "Cell \u001b[0;32mIn[60], line 3\u001b[0m\n\u001b[1;32m      1\u001b[0m EPOCHS \u001b[39m=\u001b[39m \u001b[39m10\u001b[39m\n\u001b[1;32m      2\u001b[0m \u001b[39mfor\u001b[39;00m epoch \u001b[39min\u001b[39;00m \u001b[39mrange\u001b[39m(EPOCHS):\n\u001b[0;32m----> 3\u001b[0m     train_diff(epoch, model, optimizer, loss, train_loader)\n",
      "Cell \u001b[0;32mIn[58], line 14\u001b[0m, in \u001b[0;36mtrain_diff\u001b[0;34m(epoch, model, optimizer, loss_function, train_loader)\u001b[0m\n\u001b[1;32m     12\u001b[0m \u001b[39mfor\u001b[39;00m idx, x \u001b[39min\u001b[39;00m \u001b[39menumerate\u001b[39m(data):\n\u001b[1;32m     13\u001b[0m     \u001b[39minput\u001b[39m[idx] \u001b[39m=\u001b[39m torch\u001b[39m.\u001b[39msqrt(alf[idx]) \u001b[39m*\u001b[39m data[idx] \u001b[39m+\u001b[39m torch\u001b[39m.\u001b[39msqrt(\u001b[39m1\u001b[39m \u001b[39m-\u001b[39m alf[idx]) \u001b[39m*\u001b[39m eps[idx]\n\u001b[0;32m---> 14\u001b[0m eps_nn \u001b[39m=\u001b[39m model(\u001b[39minput\u001b[39;49m\u001b[39m.\u001b[39;49mview(\u001b[39m-\u001b[39;49m\u001b[39m1\u001b[39;49m, \u001b[39m1\u001b[39;49m, \u001b[39m28\u001b[39;49m, \u001b[39m28\u001b[39;49m), t)\n\u001b[1;32m     15\u001b[0m loss \u001b[39m=\u001b[39m loss_function(eps\u001b[39m.\u001b[39mview(\u001b[39m-\u001b[39m\u001b[39m1\u001b[39m, \u001b[39m784\u001b[39m), eps_nn\u001b[39m.\u001b[39mview(\u001b[39m-\u001b[39m\u001b[39m1\u001b[39m, \u001b[39m784\u001b[39m))\n\u001b[1;32m     16\u001b[0m loss\u001b[39m.\u001b[39mbackward()\n",
      "File \u001b[0;32m~/.local/lib/python3.10/site-packages/torch/nn/modules/module.py:1194\u001b[0m, in \u001b[0;36mModule._call_impl\u001b[0;34m(self, *input, **kwargs)\u001b[0m\n\u001b[1;32m   1190\u001b[0m \u001b[39m# If we don't have any hooks, we want to skip the rest of the logic in\u001b[39;00m\n\u001b[1;32m   1191\u001b[0m \u001b[39m# this function, and just call forward.\u001b[39;00m\n\u001b[1;32m   1192\u001b[0m \u001b[39mif\u001b[39;00m \u001b[39mnot\u001b[39;00m (\u001b[39mself\u001b[39m\u001b[39m.\u001b[39m_backward_hooks \u001b[39mor\u001b[39;00m \u001b[39mself\u001b[39m\u001b[39m.\u001b[39m_forward_hooks \u001b[39mor\u001b[39;00m \u001b[39mself\u001b[39m\u001b[39m.\u001b[39m_forward_pre_hooks \u001b[39mor\u001b[39;00m _global_backward_hooks\n\u001b[1;32m   1193\u001b[0m         \u001b[39mor\u001b[39;00m _global_forward_hooks \u001b[39mor\u001b[39;00m _global_forward_pre_hooks):\n\u001b[0;32m-> 1194\u001b[0m     \u001b[39mreturn\u001b[39;00m forward_call(\u001b[39m*\u001b[39;49m\u001b[39minput\u001b[39;49m, \u001b[39m*\u001b[39;49m\u001b[39m*\u001b[39;49mkwargs)\n\u001b[1;32m   1195\u001b[0m \u001b[39m# Do not call functions when jit is used\u001b[39;00m\n\u001b[1;32m   1196\u001b[0m full_backward_hooks, non_full_backward_hooks \u001b[39m=\u001b[39m [], []\n",
      "Cell \u001b[0;32mIn[57], line 115\u001b[0m, in \u001b[0;36mDiffusionModel.forward\u001b[0;34m(self, x, t)\u001b[0m\n\u001b[1;32m    113\u001b[0m x \u001b[39m=\u001b[39m \u001b[39mself\u001b[39m\u001b[39m.\u001b[39mrelu(x)\n\u001b[1;32m    114\u001b[0m \u001b[39mprint\u001b[39m(x\u001b[39m.\u001b[39mshape)\n\u001b[0;32m--> 115\u001b[0m x \u001b[39m=\u001b[39m \u001b[39mself\u001b[39;49m\u001b[39m.\u001b[39;49mc7(x) \u001b[39m+\u001b[39m T\n\u001b[1;32m    116\u001b[0m x \u001b[39m=\u001b[39m \u001b[39mself\u001b[39m\u001b[39m.\u001b[39mb7(x)\n\u001b[1;32m    117\u001b[0m x \u001b[39m=\u001b[39m \u001b[39mself\u001b[39m\u001b[39m.\u001b[39mrelu(x)\n",
      "File \u001b[0;32m~/.local/lib/python3.10/site-packages/torch/nn/modules/module.py:1194\u001b[0m, in \u001b[0;36mModule._call_impl\u001b[0;34m(self, *input, **kwargs)\u001b[0m\n\u001b[1;32m   1190\u001b[0m \u001b[39m# If we don't have any hooks, we want to skip the rest of the logic in\u001b[39;00m\n\u001b[1;32m   1191\u001b[0m \u001b[39m# this function, and just call forward.\u001b[39;00m\n\u001b[1;32m   1192\u001b[0m \u001b[39mif\u001b[39;00m \u001b[39mnot\u001b[39;00m (\u001b[39mself\u001b[39m\u001b[39m.\u001b[39m_backward_hooks \u001b[39mor\u001b[39;00m \u001b[39mself\u001b[39m\u001b[39m.\u001b[39m_forward_hooks \u001b[39mor\u001b[39;00m \u001b[39mself\u001b[39m\u001b[39m.\u001b[39m_forward_pre_hooks \u001b[39mor\u001b[39;00m _global_backward_hooks\n\u001b[1;32m   1193\u001b[0m         \u001b[39mor\u001b[39;00m _global_forward_hooks \u001b[39mor\u001b[39;00m _global_forward_pre_hooks):\n\u001b[0;32m-> 1194\u001b[0m     \u001b[39mreturn\u001b[39;00m forward_call(\u001b[39m*\u001b[39;49m\u001b[39minput\u001b[39;49m, \u001b[39m*\u001b[39;49m\u001b[39m*\u001b[39;49mkwargs)\n\u001b[1;32m   1195\u001b[0m \u001b[39m# Do not call functions when jit is used\u001b[39;00m\n\u001b[1;32m   1196\u001b[0m full_backward_hooks, non_full_backward_hooks \u001b[39m=\u001b[39m [], []\n",
      "File \u001b[0;32m~/.local/lib/python3.10/site-packages/torch/nn/modules/conv.py:463\u001b[0m, in \u001b[0;36mConv2d.forward\u001b[0;34m(self, input)\u001b[0m\n\u001b[1;32m    462\u001b[0m \u001b[39mdef\u001b[39;00m \u001b[39mforward\u001b[39m(\u001b[39mself\u001b[39m, \u001b[39minput\u001b[39m: Tensor) \u001b[39m-\u001b[39m\u001b[39m>\u001b[39m Tensor:\n\u001b[0;32m--> 463\u001b[0m     \u001b[39mreturn\u001b[39;00m \u001b[39mself\u001b[39;49m\u001b[39m.\u001b[39;49m_conv_forward(\u001b[39minput\u001b[39;49m, \u001b[39mself\u001b[39;49m\u001b[39m.\u001b[39;49mweight, \u001b[39mself\u001b[39;49m\u001b[39m.\u001b[39;49mbias)\n",
      "File \u001b[0;32m~/.local/lib/python3.10/site-packages/torch/nn/modules/conv.py:459\u001b[0m, in \u001b[0;36mConv2d._conv_forward\u001b[0;34m(self, input, weight, bias)\u001b[0m\n\u001b[1;32m    455\u001b[0m \u001b[39mif\u001b[39;00m \u001b[39mself\u001b[39m\u001b[39m.\u001b[39mpadding_mode \u001b[39m!=\u001b[39m \u001b[39m'\u001b[39m\u001b[39mzeros\u001b[39m\u001b[39m'\u001b[39m:\n\u001b[1;32m    456\u001b[0m     \u001b[39mreturn\u001b[39;00m F\u001b[39m.\u001b[39mconv2d(F\u001b[39m.\u001b[39mpad(\u001b[39minput\u001b[39m, \u001b[39mself\u001b[39m\u001b[39m.\u001b[39m_reversed_padding_repeated_twice, mode\u001b[39m=\u001b[39m\u001b[39mself\u001b[39m\u001b[39m.\u001b[39mpadding_mode),\n\u001b[1;32m    457\u001b[0m                     weight, bias, \u001b[39mself\u001b[39m\u001b[39m.\u001b[39mstride,\n\u001b[1;32m    458\u001b[0m                     _pair(\u001b[39m0\u001b[39m), \u001b[39mself\u001b[39m\u001b[39m.\u001b[39mdilation, \u001b[39mself\u001b[39m\u001b[39m.\u001b[39mgroups)\n\u001b[0;32m--> 459\u001b[0m \u001b[39mreturn\u001b[39;00m F\u001b[39m.\u001b[39;49mconv2d(\u001b[39minput\u001b[39;49m, weight, bias, \u001b[39mself\u001b[39;49m\u001b[39m.\u001b[39;49mstride,\n\u001b[1;32m    460\u001b[0m                 \u001b[39mself\u001b[39;49m\u001b[39m.\u001b[39;49mpadding, \u001b[39mself\u001b[39;49m\u001b[39m.\u001b[39;49mdilation, \u001b[39mself\u001b[39;49m\u001b[39m.\u001b[39;49mgroups)\n",
      "\u001b[0;31mRuntimeError\u001b[0m: Given groups=1, weight of size [10, 1, 3, 3], expected input[512, 10, 28, 28] to have 1 channels, but got 10 channels instead"
     ]
    }
   ],
   "source": [
    "EPOCHS = 10\n",
    "for epoch in range(EPOCHS):\n",
    "    train_diff(epoch, model, optimizer, loss, train_loader)"
   ]
  },
  {
   "cell_type": "code",
   "execution_count": null,
   "metadata": {},
   "outputs": [],
   "source": [
    "test = model.sample_image()"
   ]
  },
  {
   "cell_type": "code",
   "execution_count": 257,
   "metadata": {},
   "outputs": [
    {
     "data": {
      "text/plain": [
       "<matplotlib.image.AxesImage at 0x7f836919ec80>"
      ]
     },
     "execution_count": 257,
     "metadata": {},
     "output_type": "execute_result"
    },
    {
     "data": {
      "image/png": "[encoded data removed]",
      "text/plain": [
       "<Figure size 640x480 with 1 Axes>"
      ]
     },
     "metadata": {},
     "output_type": "display_data"
    }
   ],
   "source": [
    "import matplotlib.pyplot as plt\n",
    "\n",
    "sigmoid = nn.Sigmoid()\n",
    "plt.imshow(test[0].view(28, 28))"
   ]
  },
  {
   "cell_type": "code",
   "execution_count": 198,
   "metadata": {},
   "outputs": [],
   "source": [
    "def embedtime(self, t, embedding_size, dimensions):\n",
    "    emb = torch.zeros((embedding_size // 2) * t.shape[0]).reshape(t.shape[0], embedding_size // 2)\n",
    "    emb2 = torch.zeros((embedding_size // 2) * t.shape[0]).reshape(t.shape[0], embedding_size // 2)\n",
    "    s = torch.linspace(torch.tensor(2), torch.tensor(embedding_size // 2), torch.tensor(embedding_size // 2, dtype=int))\n",
    "    for idx, samp in enumerate(t):\n",
    "        emb[idx] = torch.sin(2 * s * torch.pi * samp / self.T)\n",
    "        emb2[idx] = torch.cos(2 * s * torch.pi * samp / self.T)\n",
    "\n",
    "    return torch.cat([emb, emb2], dim = 1).view(-1, embedding_size, 1, 1).repeat(1, 1, dimensions, dimensions)"
   ]
  },
  {
   "cell_type": "code",
   "execution_count": 203,
   "metadata": {},
   "outputs": [
    {
     "data": {
      "text/plain": [
       "torch.Size([16, 8, 8])"
      ]
     },
     "execution_count": 203,
     "metadata": {},
     "output_type": "execute_result"
    }
   ],
   "source": []
  },
  {
   "cell_type": "code",
   "execution_count": 193,
   "metadata": {},
   "outputs": [
    {
     "data": {
      "text/plain": [
       "torch.Size([3, 8])"
      ]
     },
     "execution_count": 193,
     "metadata": {},
     "output_type": "execute_result"
    }
   ],
   "source": [
    "x.shape"
   ]
  },
  {
   "cell_type": "code",
   "execution_count": null,
   "metadata": {},
   "outputs": [],
   "source": [
    "def pos_encoding(self, t, channels, embed_size):\n",
    "        inv_freq = 1.0 / (\n",
    "            10000\n",
    "            ** (torch.arange(0, channels, 2, device=self.device).float() / channels)\n",
    "        )\n",
    "        pos_enc_a = torch.sin(t.repeat(1, channels // 2) * inv_freq)\n",
    "        pos_enc_b = torch.cos(t.repeat(1, channels // 2) * inv_freq)\n",
    "        pos_enc = torch.cat([pos_enc_a, pos_enc_b], dim=-1)\n",
    "        return pos_enc.view(-1, channels, 1, 1).repeat(1, 1, embed_size, embed_size)"
   ]
  },
  {
   "cell_type": "code",
   "execution_count": 177,
   "metadata": {},
   "outputs": [
    {
     "data": {
      "text/plain": [
       "torch.Size([16, 16])"
      ]
     },
     "execution_count": 177,
     "metadata": {},
     "output_type": "execute_result"
    }
   ],
   "source": [
    "a = torch.tensor([2]).repeat(1, 32 // 2) * torch.arange(0, 32, 2)\n",
    "b = a = torch.tensor([2]).repeat(1, 32 // 2) * torch.arange(0, 32, 2)\n",
    "torch.cat([a, b], dim = 1).view(-1, 32, 1, 1).repeat(1, 1, 16, 16)[0][1].shape"
   ]
  },
  {
   "cell_type": "code",
   "execution_count": null,
   "metadata": {},
   "outputs": [],
   "source": []
  }
 ],
 "metadata": {
  "kernelspec": {
   "display_name": "Python 3",
   "language": "python",
   "name": "python3"
  },
  "language_info": {
   "codemirror_mode": {
    "name": "ipython",
    "version": 3
   },
   "file_extension": ".py",
   "mimetype": "text/x-python",
   "name": "python",
   "nbconvert_exporter": "python",
   "pygments_lexer": "ipython3",
   "version": "3.10.8"
  },
  "orig_nbformat": 4,
  "vscode": {
   "interpreter": {
    "hash": "e7370f93d1d0cde622a1f8e1c04877d8463912d04d973331ad4851f04de6915a"
   }
  }
 },
 "nbformat": 4,
 "nbformat_minor": 2
}
